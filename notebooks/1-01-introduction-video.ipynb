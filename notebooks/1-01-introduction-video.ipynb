{
 "cells": [
  {
   "cell_type": "markdown",
   "metadata": {
    "slideshow": {
     "slide_type": "slide"
    }
   },
   "source": [
    "<div class=\"licence\">\n",
    "<span>Licence CC BY-NC-ND</span>\n",
    "<span>Thierry Parmentelat</span>\n",
    "<span><img src=\"../media/inria-25-alpha.png\" /></span>\n",
    "</div>"
   ]
  },
  {
   "cell_type": "markdown",
   "metadata": {},
   "source": [
    "# intro à `git` et vidéo"
   ]
  },
  {
   "cell_type": "markdown",
   "metadata": {
    "slideshow": {
     "slide_type": "slide"
    }
   },
   "source": [
    "## ressources du cours\n",
    "\n",
    "* pour suivre ce cours en version statique HTML recherchable:  \n",
    "  https://flotpython-gittutorial.readthedocs.io/\n",
    "\n",
    "* également utile, une *cheat sheet* éditée par github :  \n",
    "  https://github.github.com/training-kit/downloads/github-git-cheat-sheet.pdf\n",
    "  \n",
    "* les sources de ce cours :  \n",
    "  https://github.com/flotpython/gittutorial"
   ]
  },
  {
   "cell_type": "markdown",
   "metadata": {
    "slideshow": {
     "slide_type": "slide"
    }
   },
   "source": [
    "## propos"
   ]
  },
  {
   "cell_type": "markdown",
   "metadata": {},
   "source": [
    "* le système `git` est un *SCM* - Source Code Management tool\n",
    "* introduit vers 2005 par Linus Torvalds,  \n",
    "  au départ pour le développement de Linux\n",
    "\n",
    "* s'inscrit dans une histoire\n",
    "  * sccs (70'), rcs (80'), cvs(90'), subversion (2004), git(2007) ... ??"
   ]
  },
  {
   "cell_type": "markdown",
   "metadata": {},
   "source": [
    "tous ces systèmes visent à la même chose :\n",
    "\n",
    "> **s'y retrouver dans la gestion des versions d'un logiciel**"
   ]
  },
  {
   "cell_type": "markdown",
   "metadata": {
    "slideshow": {
     "slide_type": "notes"
    }
   },
   "source": [
    "Le développement de logiciels présente naturellement quelques spécificités; mais les outils de la suite `git` sont très adaptés à tous les projets collaboratifs visant à produire du contenu digital de nature principalement textuelle. "
   ]
  },
  {
   "cell_type": "markdown",
   "metadata": {
    "slideshow": {
     "slide_type": "slide"
    }
   },
   "source": [
    "## illustration des cas d'usage"
   ]
  },
  {
   "cell_type": "markdown",
   "metadata": {},
   "source": [
    "[Introduction au workflow : présentation pdf](files/../media/intro-workflow-animations.pdf)\n",
    "\n",
    "(le pdf fait partie du dépôt git,  \n",
    "dans `media/intro-workflow-animations.pdf`)"
   ]
  },
  {
   "cell_type": "markdown",
   "metadata": {
    "slideshow": {
     "slide_type": "slide"
    }
   },
   "source": [
    "## qu'est-ce que le contrôle de versions ?"
   ]
  },
  {
   "cell_type": "markdown",
   "metadata": {},
   "source": [
    "* un système pour consigner les modifications apportées à un fichier ou à un ensemble de fichiers au cours du temps\n",
    "* de manière à conserver toutes les traces du développement d'un projet\n",
    "* ajoute à la notion de fichier/contenu les dimensions\n",
    "  * temps\n",
    "  * qui fait quoi, comment et pourquoi"
   ]
  },
  {
   "cell_type": "markdown",
   "metadata": {
    "slideshow": {
     "slide_type": "notes"
    }
   },
   "source": [
    "Au lieu de ne considérer que l'état d'un directory à un moment donné, on va aussi en conserver des copies au cours du temps, et organiser ces différents états dans un graphe de dépendance annoté (date, commentaire, etc...)"
   ]
  },
  {
   "cell_type": "markdown",
   "metadata": {
    "slideshow": {
     "slide_type": "slide"
    }
   },
   "source": [
    "## pourquoi un système de contrôle de versions"
   ]
  },
  {
   "cell_type": "markdown",
   "metadata": {},
   "source": [
    "* rétablir des états précédents de fichiers ou d'un projet dans son intégralité\n",
    "* comparer des modifications, déterminer l'origine d'un problème, revenir à une version plus stable, ...\n",
    "* travailler ensemble sur un projet, voire chacun sur une branche différente, et fusionner tout cela ensuite\n",
    "* récupérer facilement des fichiers abîmés ou perdus"
   ]
  },
  {
   "cell_type": "markdown",
   "metadata": {
    "slideshow": {
     "slide_type": "slide"
    }
   },
   "source": [
    "## git est un système décentralisé"
   ]
  },
  {
   "cell_type": "markdown",
   "metadata": {},
   "source": [
    "* tous les collaborateurs d'un projet ont un réplicat complet de tout l'historique du projet auquel ils contribuent\n",
    "\n",
    "* difficile de perdre des fichiers ou des projets dans ces conditions\n",
    "\n",
    "* vous pouvez héberger votre projet dans un serveur distant (sur Internet ou sur votre réseau), et donner son accès à des contributeurs, ou le rendre complètement public"
   ]
  },
  {
   "cell_type": "markdown",
   "metadata": {
    "slideshow": {
     "slide_type": "slide"
    }
   },
   "source": [
    "## développement logiciel, mais pas que..."
   ]
  },
  {
   "cell_type": "markdown",
   "metadata": {},
   "source": [
    "* **lois**: gestion du corpus de lois: le Council de Washington DC\n",
    "  * https://github.com/DCCouncil/dc-law-html\n",
    "* **open-data**: \n",
    "  * https://github.com/collections/open-data\n",
    "\n",
    "et en réalité tous ces outils sont potentiellement utiles  \n",
    "**pour pratiquement tout ce qui est numérique** \n",
    "\n",
    "même si clairement ils s'appliquent le mieux  \n",
    "aux **contenus de nature textuelle**"
   ]
  },
  {
   "cell_type": "markdown",
   "metadata": {
    "slideshow": {
     "slide_type": "slide"
    }
   },
   "source": [
    "## vidéo"
   ]
  },
  {
   "cell_type": "markdown",
   "metadata": {},
   "source": [
    "pour ceux qui n'ont aucune idée :  [vidéo de survol](https://www.youtube.com/watch?v=WPK3axteMnI)  \n",
    "une introduction rapide (7')  \n",
    "tour d'horizon en deux parties\n",
    "\n",
    "* utilisation en local : création d'une branche, merge\n",
    "* exposition dans github.com, et partage avec un collaborateur"
   ]
  },
  {
   "cell_type": "markdown",
   "metadata": {
    "slideshow": {
     "slide_type": "notes"
    }
   },
   "source": [
    "La vidéo introductive montre, à très haute altitude, comment git peut être utilisé dans un workflow très simplifié mais assez typique. Naturellement toutes ces notions sont reprises par la suite, il s'agit uniquement de fixer les idées, notamment pour les gens qui n'ont aucune idée a priori sur cet outil, et qui pourraient avoir du mal à en voir la finalité."
   ]
  },
  {
   "cell_type": "markdown",
   "metadata": {
    "slideshow": {
     "slide_type": "slide"
    }
   },
   "source": [
    "## un peu de terminologie"
   ]
  },
  {
   "cell_type": "markdown",
   "metadata": {},
   "source": [
    "dans ce qui suit, nous utiliserons abondamment les termes suivants :\n",
    "\n",
    "* un **commit** désigne une version enregistrée du projet (typiquement du code source)\n",
    "\n",
    "* une **branche** (\"*branch*\") désigne une référence vers un commit; avec `git` on travaille toujours sur une branche courante (`master` par défaut) et chaque nouveau *commit* fait \"avancer\" ladite branche\n",
    "\n",
    "* la **fusion** (\"*merge*\") permet de réconcilier deux branches"
   ]
  },
  {
   "cell_type": "markdown",
   "metadata": {
    "slideshow": {
     "slide_type": "notes"
    }
   },
   "source": [
    "**commit** : pendant la réalisation, le·a développeu·r·se créera des *commits* afin de \"figer\" l'état son travail à un instant donné. Il sera alors possible de naviguer entre ces *commits*, afin de revoir l'historique de développement, rechercher la source d'un bug, restaurer la version exacte déployée à un client etc.\n",
    "\n",
    "**branche / *branch*** : une branche permet par exemple de retracer l'historique du projet depuis de tout début (dépôt vide) jusqu'au code source actuel.  \n",
    "Notons que `git` permet de travailler sur plusieurs branches *en parallèle*: ainsi chaque développeur peut travailler sur sa propre version du code sans impacter les autres; la mise en commun se fera plus tard au moment de la *fusion* des branches.\n",
    "\n",
    "**fusion / *merge*** : typiquement on *fusionnera* la branche de travail d'un·e développeu·r·se sur la branche principale (`master`) afin d'y intégrer le résultat de son travail. Parfois l'outil n'y arrive pas tout seul (typiquement lorsque deux développeu·r·se·s ont modifié une même section de code) et on se trouve alors face à un **conflit** que l'on devra résoudre manuellement."
   ]
  },
  {
   "cell_type": "markdown",
   "metadata": {
    "slideshow": {
     "slide_type": "slide"
    }
   },
   "source": [
    "## avec git en local, on peut"
   ]
  },
  {
   "cell_type": "markdown",
   "metadata": {
    "slideshow": {
     "slide_type": ""
    }
   },
   "source": [
    "* conserver une trace structurée de tous les changements\n",
    "* revenir en arrière\n",
    "  * sur n'importe quel **commit**\n",
    "* découper le travail en problèmes indépendants\n",
    "  * en créant autant de **branches** que nécessaire\n",
    "* intégrer (**merge / fusionner**) facilement \n",
    "  * une fois que tous les morceaux sont terminés"
   ]
  },
  {
   "cell_type": "markdown",
   "metadata": {
    "slideshow": {
     "slide_type": "notes"
    }
   },
   "source": [
    "La finalité de `git` est de stocker l'historique des changements sous la forme d'un ensemble de *commits*, sur lequel on reviendra longuement naturellement. À ce stade on peut noter toutefois que le travail se fait le long de *branches*, qui le plus souvent évoluent en parallèle et sont ensuite fusionnées. Tout ceci a déjà un intérêt même lorsqu'on travaille seul."
   ]
  },
  {
   "cell_type": "markdown",
   "metadata": {
    "slideshow": {
     "slide_type": "slide"
    }
   },
   "source": [
    "## avec git on peut aussi"
   ]
  },
  {
   "cell_type": "markdown",
   "metadata": {},
   "source": [
    "* travailler à plusieurs\n",
    "  * sans dépendre les uns des autres\n",
    "  * chacun sa **branche**\n",
    "* facilement synchroniser deux dépôts distants\n",
    "  * à base de `clone`, `push` et `pull`"
   ]
  },
  {
   "cell_type": "markdown",
   "metadata": {
    "slideshow": {
     "slide_type": "notes"
    }
   },
   "source": [
    "Mais `git` est aussi et avant tout conçu pour faciliter le travail collaboratif, que ce soit dans le cadre d'une petite équipe ramassée, ou pour de très gros projets avec des contributeurs nombreux, et qui ne se connaissent pas forcément au départ."
   ]
  },
  {
   "cell_type": "markdown",
   "metadata": {
    "slideshow": {
     "slide_type": "slide"
    }
   },
   "source": [
    "## les limites de git"
   ]
  },
  {
   "cell_type": "markdown",
   "metadata": {},
   "source": [
    "* lorsqu'on fusionne (merge) deux branches\n",
    "  * il faut pouvoir calculer l'union de plusieurs changements\n",
    "* du coup\n",
    "  * OK sur du contenu textuel\n",
    "  * mais pas dispo sur les formats plus exotiques  \n",
    "    (e.g. vidéo, audio, ...)"
   ]
  },
  {
   "cell_type": "markdown",
   "metadata": {
    "slideshow": {
     "slide_type": "notes"
    }
   },
   "source": [
    "Il est possible de verser dans `git` du contenu binaire comme du pdf, des images, du son, de la vidéo, mais ses capacités pour fusionner de tels documents sont pauvres. \n",
    "\n",
    "Le plus souvent, les projets qui utilisent `git` sont de nature très majoritairement textuelle; on y trouve fréquemment des artefacts, comme des images utilisées comme illustrations dans la documentation, qui sont du binaire, mais sur lesquels on ne sait pas fusionner les changements. "
   ]
  },
  {
   "cell_type": "markdown",
   "metadata": {
    "slideshow": {
     "slide_type": "slide"
    }
   },
   "source": [
    "## sachez aussi que"
   ]
  },
  {
   "cell_type": "markdown",
   "metadata": {},
   "source": [
    "* on a utilisé dans la vidéo un dépôt `github.com` **public** parce que c'est pratique\n",
    "  * on peut facilement créer des dépôts **privés**\n",
    "* on peut facilement déployer sa propre infra \n",
    "  * si on a des données plus sensibles\n",
    "* l'aspect confidentialité n'est pas un obstacle"
   ]
  },
  {
   "cell_type": "markdown",
   "metadata": {
    "slideshow": {
     "slide_type": "notes"
    }
   },
   "source": [
    "Les trois gros joueurs - github, gitlab et bitbucket - se démènent naturellement pour attirer à eux la plus grosse part de marché. \n",
    "\n",
    "Avant le début 2019, `github` réservait les dépôts privés aux utilisateurs payants. Depuis cette date cette limitation est tombée, chacun peut donc créer autant dépôts privés que nécessaire. \n",
    "\n",
    "L'angle d'attaque de `gitlab` est de proposer une solution facilement déployable sur une infra privée.\n",
    "\n",
    "Le point important ici est que l'écosystème git propose des solutions pour tous les besoins en termes de confidentialité."
   ]
  }
 ],
 "metadata": {
  "celltoolbar": "Slideshow",
  "ipub": {
   "sphinx": {
    "toggle_input": false,
    "toggle_input_all": false,
    "toggle_output": false,
    "toggle_output_all": false
   },
   "toc": true
  },
  "kernelspec": {
   "display_name": "Calysto Bash",
   "language": "bash",
   "name": "calysto_bash"
  },
  "language_info": {
   "file_extension": ".sh",
   "help_links": [
    {
     "text": "MetaKernel Magics",
     "url": "https://metakernel.readthedocs.io/en/latest/source/README.html"
    }
   ],
   "mimetype": "text/x-sh",
   "name": "bash",
   "version": "0.2.1"
  },
  "notebookname": "vidéo et intro",
  "rise": {
   "autolaunch": true,
   "slideNumber": "c/t",
   "start_slideshow_at": "selected",
   "theme": "sky",
   "transition": "cube"
  },
  "version": "1.0"
 },
 "nbformat": 4,
 "nbformat_minor": 4
}
